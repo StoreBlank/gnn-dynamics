{
 "cells": [
  {
   "cell_type": "code",
   "execution_count": 2,
   "metadata": {},
   "outputs": [
    {
     "data": {
      "text/plain": [
       "{'particle_radius': 0.03,\n",
       " 'num_particles': 2000,\n",
       " 'granular_scale': 0.1602763376071644,\n",
       " 'num_granular': 36,\n",
       " 'distribution_r': 0.20897663659937937,\n",
       " 'dynamic_friction': 0.49655835953723326,\n",
       " 'granular_mass': 6.494351719359895,\n",
       " 'tool': 2.0,\n",
       " 'dustpan': 1.0}"
      ]
     },
     "execution_count": 2,
     "metadata": {},
     "output_type": "execute_result"
    }
   ],
   "source": [
    "import numpy as np\n",
    "import json\n",
    "\n",
    "physics_path = '/mnt/sda/data/granular_sweeping_dustpan/episode_0/property_params.json'\n",
    "physics_params = json.load(open(physics_path, 'r'))\n",
    "physics_params"
   ]
  },
  {
   "cell_type": "code",
   "execution_count": 3,
   "metadata": {},
   "outputs": [
    {
     "data": {
      "text/plain": [
       "array([  0,  69, 138, 207, 276])"
      ]
     },
     "execution_count": 3,
     "metadata": {},
     "output_type": "execute_result"
    }
   ],
   "source": [
    "steps_path = '/mnt/sda/data/granular_sweeping_dustpan/episode_0/steps.npy'\n",
    "steps = np.load(steps_path)\n",
    "steps"
   ]
  },
  {
   "cell_type": "code",
   "execution_count": 5,
   "metadata": {},
   "outputs": [
    {
     "data": {
      "text/plain": [
       "(345, 7)"
      ]
     },
     "execution_count": 5,
     "metadata": {},
     "output_type": "execute_result"
    }
   ],
   "source": [
    "sponge_state_path = '/mnt/sda/data/granular_sweeping_dustpan/episode_0/sponge_states.npy'\n",
    "sponge_states = np.load(sponge_state_path)\n",
    "sponge_states.shape"
   ]
  },
  {
   "cell_type": "code",
   "execution_count": 6,
   "metadata": {},
   "outputs": [
    {
     "data": {
      "text/plain": [
       "(345, 7)"
      ]
     },
     "execution_count": 6,
     "metadata": {},
     "output_type": "execute_result"
    }
   ],
   "source": [
    "dustpan_state_path = '/mnt/sda/data/granular_sweeping_dustpan/episode_0/dustpan_states.npy'\n",
    "dustpan_states = np.load(dustpan_state_path)\n",
    "dustpan_states.shape"
   ]
  },
  {
   "cell_type": "code",
   "execution_count": 7,
   "metadata": {},
   "outputs": [
    {
     "data": {
      "text/plain": [
       "(345, 2000, 3)"
      ]
     },
     "execution_count": 7,
     "metadata": {},
     "output_type": "execute_result"
    }
   ],
   "source": [
    "particles_pos_path = '/mnt/sda/data/granular_sweeping_dustpan/episode_0/particles_pos.npy'\n",
    "particles_pos = np.load(particles_pos_path)\n",
    "particles_pos.shape"
   ]
  },
  {
   "cell_type": "code",
   "execution_count": 8,
   "metadata": {},
   "outputs": [
    {
     "data": {
      "text/plain": [
       "493"
      ]
     },
     "execution_count": 8,
     "metadata": {},
     "output_type": "execute_result"
    }
   ],
   "source": [
    "300+9+92+92"
   ]
  }
 ],
 "metadata": {
  "kernelspec": {
   "display_name": "dyn-res-pile-manip",
   "language": "python",
   "name": "python3"
  },
  "language_info": {
   "codemirror_mode": {
    "name": "ipython",
    "version": 3
   },
   "file_extension": ".py",
   "mimetype": "text/x-python",
   "name": "python",
   "nbconvert_exporter": "python",
   "pygments_lexer": "ipython3",
   "version": "3.9.18"
  }
 },
 "nbformat": 4,
 "nbformat_minor": 2
}
