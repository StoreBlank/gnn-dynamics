{
 "cells": [
  {
   "cell_type": "code",
   "execution_count": 2,
   "metadata": {},
   "outputs": [
    {
     "data": {
      "text/plain": [
       "{'particle_radius': 0.03,\n",
       " 'num_particles': 2000,\n",
       " 'granular_scale': 0.1602763376071644,\n",
       " 'num_granular': 36,\n",
       " 'distribution_r': 0.20897663659937937,\n",
       " 'dynamic_friction': 0.49655835953723326,\n",
       " 'granular_mass': 6.494351719359895,\n",
       " 'tool': 2.0,\n",
       " 'dustpan': 1.0}"
      ]
     },
     "execution_count": 2,
     "metadata": {},
     "output_type": "execute_result"
    }
   ],
   "source": [
    "import numpy as np\n",
    "import json\n",
    "\n",
    "physics_path = '/mnt/sda/data/granular_sweeping_dustpan/episode_0/property_params.json'\n",
    "physics_params = json.load(open(physics_path, 'r'))\n",
    "physics_params"
   ]
  },
  {
   "cell_type": "code",
   "execution_count": 3,
   "metadata": {},
   "outputs": [
    {
     "data": {
      "text/plain": [
       "array([  0,  69, 138, 207, 276])"
      ]
     },
     "execution_count": 3,
     "metadata": {},
     "output_type": "execute_result"
    }
   ],
   "source": [
    "steps_path = '/mnt/sda/data/granular_sweeping_dustpan/episode_0/steps.npy'\n",
    "steps = np.load(steps_path)\n",
    "steps"
   ]
  },
  {
   "cell_type": "code",
   "execution_count": 5,
   "metadata": {},
   "outputs": [
    {
     "data": {
      "text/plain": [
       "(345, 7)"
      ]
     },
     "execution_count": 5,
     "metadata": {},
     "output_type": "execute_result"
    }
   ],
   "source": [
    "sponge_state_path = '/mnt/sda/data/granular_sweeping_dustpan/episode_0/sponge_states.npy'\n",
    "sponge_states = np.load(sponge_state_path)\n",
    "sponge_states.shape"
   ]
  },
  {
   "cell_type": "code",
   "execution_count": 6,
   "metadata": {},
   "outputs": [
    {
     "data": {
      "text/plain": [
       "(345, 7)"
      ]
     },
     "execution_count": 6,
     "metadata": {},
     "output_type": "execute_result"
    }
   ],
   "source": [
    "dustpan_state_path = '/mnt/sda/data/granular_sweeping_dustpan/episode_0/dustpan_states.npy'\n",
    "dustpan_states = np.load(dustpan_state_path)\n",
    "dustpan_states.shape"
   ]
  },
  {
   "cell_type": "code",
   "execution_count": 7,
   "metadata": {},
   "outputs": [
    {
     "data": {
      "text/plain": [
       "(345, 2000, 3)"
      ]
     },
     "execution_count": 7,
     "metadata": {},
     "output_type": "execute_result"
    }
   ],
   "source": [
    "particles_pos_path = '/mnt/sda/data/granular_sweeping_dustpan/episode_0/particles_pos.npy'\n",
    "particles_pos = np.load(particles_pos_path)\n",
    "particles_pos.shape"
   ]
  },
  {
   "cell_type": "code",
   "execution_count": 9,
   "metadata": {},
   "outputs": [
    {
     "name": "stdout",
     "output_type": "stream",
     "text": [
      "Original Tensor:\n",
      "tensor([[0, 1, 2],\n",
      "        [3, 4, 5]])\n",
      "\n",
      "Transposed Tensor:\n",
      "tensor([[0, 3],\n",
      "        [1, 4],\n",
      "        [2, 5]])\n",
      "\n",
      "Is Transposed Tensor Contiguous?: False\n",
      "\n",
      "Contiguous Tensor:\n",
      "tensor([[0, 3],\n",
      "        [1, 4],\n",
      "        [2, 5]])\n",
      "\n",
      "Is New Tensor Contiguous?: True\n"
     ]
    }
   ],
   "source": [
    "import torch\n",
    "# Create a 2x3 tensor\n",
    "x = torch.arange(6).reshape(2, 3)\n",
    "print(\"Original Tensor:\")\n",
    "print(x)\n",
    "\n",
    "# Transpose the tensor, making it non-contiguous\n",
    "y = x.transpose(0, 1)\n",
    "print(\"\\nTransposed Tensor:\")\n",
    "print(y)\n",
    "\n",
    "# Check if the transposed tensor is contiguous\n",
    "print(\"\\nIs Transposed Tensor Contiguous?:\", y.is_contiguous())\n",
    "\n",
    "# Make it contiguous\n",
    "y_contiguous = y.contiguous()\n",
    "print(\"\\nContiguous Tensor:\")\n",
    "print(y_contiguous)\n",
    "\n",
    "# Check if the new tensor is contiguous\n",
    "print(\"\\nIs New Tensor Contiguous?:\", y_contiguous.is_contiguous())"
   ]
  }
 ],
 "metadata": {
  "kernelspec": {
   "display_name": "dyn-res-pile-manip",
   "language": "python",
   "name": "python3"
  },
  "language_info": {
   "codemirror_mode": {
    "name": "ipython",
    "version": 3
   },
   "file_extension": ".py",
   "mimetype": "text/x-python",
   "name": "python",
   "nbconvert_exporter": "python",
   "pygments_lexer": "ipython3",
   "version": "3.9.18"
  }
 },
 "nbformat": 4,
 "nbformat_minor": 2
}
