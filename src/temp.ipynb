{
 "cells": [
  {
   "cell_type": "code",
   "execution_count": 1,
   "metadata": {},
   "outputs": [
    {
     "data": {
      "text/plain": [
       "{'particle_radius': 0.03,\n",
       " 'num_particles': 8492,\n",
       " 'granular_scale': 0.18579456176227568,\n",
       " 'num_granular': 70,\n",
       " 'distribution_r': 0.2694503477568251,\n",
       " 'dynamic_friction': 0.6364945877501806,\n",
       " 'granular_mass': 0.04459435365634299}"
      ]
     },
     "execution_count": 1,
     "metadata": {},
     "output_type": "execute_result"
    }
   ],
   "source": [
    "import numpy as np\n",
    "import json\n",
    "\n",
    "data_name = 'carrots'\n",
    "physics_path = f'/mnt/sda/data/{data_name}/episode_0/property_params.json'\n",
    "physics_params = json.load(open(physics_path, 'r'))\n",
    "physics_params"
   ]
  },
  {
   "cell_type": "code",
   "execution_count": 2,
   "metadata": {},
   "outputs": [
    {
     "data": {
      "text/plain": [
       "array([  2,  36,  67, 108, 150, 190, 231, 277, 313, 343, 393])"
      ]
     },
     "execution_count": 2,
     "metadata": {},
     "output_type": "execute_result"
    }
   ],
   "source": [
    "steps_path = f'/mnt/sda/data/{data_name}/episode_0/steps.npy'\n",
    "steps = np.load(steps_path)\n",
    "steps"
   ]
  },
  {
   "cell_type": "code",
   "execution_count": 4,
   "metadata": {},
   "outputs": [
    {
     "data": {
      "text/plain": [
       "(393, 2000, 3)"
      ]
     },
     "execution_count": 4,
     "metadata": {},
     "output_type": "execute_result"
    }
   ],
   "source": [
    "particles_pos_path = f'/mnt/sda/data/{data_name}/episode_0/particles_pos.npy'\n",
    "particles_pos = np.load(particles_pos_path)\n",
    "particles_pos.shape"
   ]
  },
  {
   "cell_type": "code",
   "execution_count": 2,
   "metadata": {},
   "outputs": [
    {
     "name": "stdout",
     "output_type": "stream",
     "text": [
      "(85, 5, 3)\n",
      "[[[-1.52999997  0.67000041  0.04501488]\n",
      "  [-2.52999997  0.67000041  0.04501488]\n",
      "  [-2.02999997  0.67000041  0.04501488]\n",
      "  [-1.77999997  0.67000041  0.04501488]\n",
      "  [-2.27999997  0.67000041  0.04501488]]\n",
      "\n",
      " [[-1.52999997  0.67000041  0.04501488]\n",
      "  [-2.52999997  0.67000041  0.04501488]\n",
      "  [-2.02999997  0.67000041  0.04501488]\n",
      "  [-1.77999997  0.67000041  0.04501488]\n",
      "  [-2.27999997  0.67000041  0.04501488]]\n",
      "\n",
      " [[ 2.56514886  0.74998785  1.78738156]\n",
      "  [ 2.72424808  0.74997521  0.80011896]\n",
      "  [ 2.64469847  0.74998153  1.29375026]\n",
      "  [ 2.60492366  0.74998469  1.54056591]\n",
      "  [ 2.68447327  0.74997837  1.04693461]]\n",
      "\n",
      " ...\n",
      "\n",
      " [[ 0.14112373  0.54232771 -1.02012209]\n",
      "  [-0.67333372  0.55621155 -1.60017923]\n",
      "  [-0.26610499  0.54926963 -1.31015066]\n",
      "  [-0.06249063  0.54579867 -1.16513637]\n",
      "  [-0.46971936  0.55274059 -1.45516494]]\n",
      "\n",
      " [[ 0.21678286  0.54312269 -1.12293121]\n",
      "  [-0.59760017  0.55570605 -1.70312249]\n",
      "  [-0.19040865  0.54941437 -1.41302685]\n",
      "  [ 0.01318711  0.54626853 -1.26797903]\n",
      "  [-0.39400441  0.55256021 -1.55807467]]\n",
      "\n",
      " [[-1.52999997  0.67000041  0.04501488]\n",
      "  [-2.52999997  0.67000041  0.04501488]\n",
      "  [-2.02999997  0.67000041  0.04501488]\n",
      "  [-1.77999997  0.67000041  0.04501488]\n",
      "  [-2.27999997  0.67000041  0.04501488]]]\n"
     ]
    }
   ],
   "source": [
    "processed_eef_states = np.load(f'/mnt/sda/data/{data_name}/episode_0/processed_eef_states.npy')\n",
    "print(processed_eef_states.shape)\n",
    "print(processed_eef_states)"
   ]
  }
 ],
 "metadata": {
  "kernelspec": {
   "display_name": "dyn-res-pile-manip",
   "language": "python",
   "name": "python3"
  },
  "language_info": {
   "codemirror_mode": {
    "name": "ipython",
    "version": 3
   },
   "file_extension": ".py",
   "mimetype": "text/x-python",
   "name": "python",
   "nbconvert_exporter": "python",
   "pygments_lexer": "ipython3",
   "version": "3.9.18"
  }
 },
 "nbformat": 4,
 "nbformat_minor": 2
}
