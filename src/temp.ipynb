{
 "cells": [
  {
   "cell_type": "code",
   "execution_count": 1,
   "metadata": {},
   "outputs": [
    {
     "data": {
      "text/plain": [
       "{'particle_radius': 0.03,\n",
       " 'num_particles': 8492,\n",
       " 'granular_scale': 0.18579456176227568,\n",
       " 'num_granular': 70,\n",
       " 'distribution_r': 0.2694503477568251,\n",
       " 'dynamic_friction': 0.6364945877501806,\n",
       " 'granular_mass': 0.04459435365634299}"
      ]
     },
     "execution_count": 1,
     "metadata": {},
     "output_type": "execute_result"
    }
   ],
   "source": [
    "import numpy as np\n",
    "import json\n",
    "\n",
    "data_name = 'carrots'\n",
    "physics_path = f'/mnt/sda/data/{data_name}/episode_0/property_params.json'\n",
    "physics_params = json.load(open(physics_path, 'r'))\n",
    "physics_params"
   ]
  },
  {
   "cell_type": "code",
   "execution_count": 2,
   "metadata": {},
   "outputs": [
    {
     "data": {
      "text/plain": [
       "array([  2,  36,  67, 108, 150, 190, 231, 277, 313, 343, 393])"
      ]
     },
     "execution_count": 2,
     "metadata": {},
     "output_type": "execute_result"
    }
   ],
   "source": [
    "steps_path = f'/mnt/sda/data/{data_name}/episode_0/steps.npy'\n",
    "steps = np.load(steps_path)\n",
    "steps"
   ]
  },
  {
   "cell_type": "code",
   "execution_count": 4,
   "metadata": {},
   "outputs": [
    {
     "data": {
      "text/plain": [
       "(393, 2000, 3)"
      ]
     },
     "execution_count": 4,
     "metadata": {},
     "output_type": "execute_result"
    }
   ],
   "source": [
    "particles_pos_path = f'/mnt/sda/data/{data_name}/episode_0/particles_pos.npy'\n",
    "particles_pos = np.load(particles_pos_path)\n",
    "particles_pos.shape"
   ]
  },
  {
   "cell_type": "code",
   "execution_count": 5,
   "metadata": {},
   "outputs": [
    {
     "data": {
      "text/plain": [
       "(393, 3)"
      ]
     },
     "execution_count": 5,
     "metadata": {},
     "output_type": "execute_result"
    }
   ],
   "source": [
    "eef_pos_path = f'/mnt/sda/data/{data_name}/episode_0/eef_pos.npy'\n",
    "eef_pos = np.load(eef_pos_path)\n",
    "eef_pos.shape"
   ]
  }
 ],
 "metadata": {
  "kernelspec": {
   "display_name": "dyn-res-pile-manip",
   "language": "python",
   "name": "python3"
  },
  "language_info": {
   "codemirror_mode": {
    "name": "ipython",
    "version": 3
   },
   "file_extension": ".py",
   "mimetype": "text/x-python",
   "name": "python",
   "nbconvert_exporter": "python",
   "pygments_lexer": "ipython3",
   "version": "3.9.18"
  }
 },
 "nbformat": 4,
 "nbformat_minor": 2
}
