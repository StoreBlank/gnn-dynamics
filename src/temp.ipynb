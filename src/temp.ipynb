{
 "cells": [
  {
   "cell_type": "code",
   "execution_count": 1,
   "metadata": {},
   "outputs": [
    {
     "data": {
      "text/plain": [
       "{'particle_radius': 0.03,\n",
       " 'num_particles': 4054,\n",
       " 'length': 3.872033759818312,\n",
       " 'thickness': 3.572784049558629,\n",
       " 'dynamic_friction': 0.29070911404891386,\n",
       " 'cluster_spacing': 8.027633760716439}"
      ]
     },
     "execution_count": 1,
     "metadata": {},
     "output_type": "execute_result"
    }
   ],
   "source": [
    "import numpy as np\n",
    "import json\n",
    "\n",
    "physics_path = '/mnt/sda/data/rope/episode_0/property_params.json'\n",
    "physics_params = json.load(open(physics_path, 'r'))\n",
    "physics_params"
   ]
  },
  {
   "cell_type": "code",
   "execution_count": 2,
   "metadata": {},
   "outputs": [
    {
     "data": {
      "text/plain": [
       "array([  2,  36,  67, 108, 150, 190, 231, 277, 313, 343, 393])"
      ]
     },
     "execution_count": 2,
     "metadata": {},
     "output_type": "execute_result"
    }
   ],
   "source": [
    "steps_path = '/mnt/sda/data/rope/episode_0/steps.npy'\n",
    "steps = np.load(steps_path)\n",
    "steps"
   ]
  },
  {
   "cell_type": "code",
   "execution_count": 4,
   "metadata": {},
   "outputs": [
    {
     "data": {
      "text/plain": [
       "(393, 2000, 3)"
      ]
     },
     "execution_count": 4,
     "metadata": {},
     "output_type": "execute_result"
    }
   ],
   "source": [
    "particles_pos_path = '/mnt/sda/data/rope/episode_0/particles_pos.npy'\n",
    "particles_pos = np.load(particles_pos_path)\n",
    "particles_pos.shape"
   ]
  },
  {
   "cell_type": "code",
   "execution_count": 5,
   "metadata": {},
   "outputs": [
    {
     "data": {
      "text/plain": [
       "(393, 3)"
      ]
     },
     "execution_count": 5,
     "metadata": {},
     "output_type": "execute_result"
    }
   ],
   "source": [
    "eef_pos_path = '/mnt/sda/data/rope/episode_0/eef_pos.npy'\n",
    "eef_pos = np.load(eef_pos_path)\n",
    "eef_pos.shape"
   ]
  }
 ],
 "metadata": {
  "kernelspec": {
   "display_name": "dyn-res-pile-manip",
   "language": "python",
   "name": "python3"
  },
  "language_info": {
   "codemirror_mode": {
    "name": "ipython",
    "version": 3
   },
   "file_extension": ".py",
   "mimetype": "text/x-python",
   "name": "python",
   "nbconvert_exporter": "python",
   "pygments_lexer": "ipython3",
   "version": "3.9.18"
  }
 },
 "nbformat": 4,
 "nbformat_minor": 2
}
